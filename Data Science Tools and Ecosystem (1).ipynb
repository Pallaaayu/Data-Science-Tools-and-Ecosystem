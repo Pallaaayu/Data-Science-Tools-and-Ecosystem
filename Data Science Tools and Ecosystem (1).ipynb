{
  "metadata": {
    "kernelspec": {
      "name": "python",
      "display_name": "Python (Pyodide)",
      "language": "python"
    },
    "language_info": {
      "codemirror_mode": {
        "name": "python",
        "version": 3
      },
      "file_extension": ".py",
      "mimetype": "text/x-python",
      "name": "python",
      "nbconvert_exporter": "python",
      "pygments_lexer": "ipython3",
      "version": "3.8"
    }
  },
  "nbformat_minor": 4,
  "nbformat": 4,
  "cells": [
    {
      "cell_type": "markdown",
      "source": "",
      "metadata": {}
    },
    {
      "cell_type": "markdown",
      "source": " # Data Science Tools and Ecosystem\n d.",
      "metadata": {}
    },
    {
      "cell_type": "markdown",
      "source": "# introduction \nIn this notebook, Data Science Tools and Ecosystem are summarized.",
      "metadata": {}
    },
    {
      "cell_type": "markdown",
      "source": "# Data Science Languages\r\n\r\n1. **Python**\r\n   - Widely used for data analysis, machine learning, and statistical modeling.\r\n\r\n2. **R**\r\n   - Popular for statistical computing and graphics.\r\n\r\n3. **SQL**\r\n   - Essential for database querying and manipulation.\r\n\r\n4. **Julia**\r\n   - Known for its high-performance numerical and scientific computing.\r\n\r\n5. **Scala**\r\n   - Often used with Apache Spark for big data processing.\r\n\r\n6. **MATLAB**\r\n   - Commonly used in academia and industry for numerical computing.\r\n\r\n7. **SAS**\r\n   - Widely used in analytics and business intelligence.\r\n\r\n8. **Java**\r\n   - Used in big data processing frameworks like Apache Hadoop.",
      "metadata": {}
    },
    {
      "cell_type": "markdown",
      "source": "# Data Science Libraries\r\n\r\nSome of the commonly used libraries used by Data Scientists include:\r\n\r\n1. **NumPy**\r\n   - Essential for numerical operations and array manipulation in Python.\r\n\r\n2. **Pandas**\r\n   - Used for data manipulation and analysis, providing data structures like DataFrame.\r\n\r\n3. **Scikit-learn**\r\n   - A machine learning library in Python, offering various algorithms and tools for modeling.\r\n\r\n4. **Matplotlib**\r\n   - Widely used for creating static, animated, and interactive visualizations in Python.",
      "metadata": {}
    },
    {
      "cell_type": "markdown",
      "source": "# Data Science Tools\r\n\r\n| Data Science Tools        |\r\n| ------------------------- |\r\n| Jupyter Notebooks         |\r\n| RStudio                   |\r\n| VS Code with Python       |",
      "metadata": {}
    },
    {
      "cell_type": "code",
      "source": "### Arithmetic Expression Examples\r\n\r\nBelow are a few examples of evaluating arithmetic expressions in Python.",
      "metadata": {
        "trusted": true
      },
      "outputs": [],
      "execution_count": null
    },
    {
      "cell_type": "code",
      "source": "# This is a simple arithmetic expression to multiply then add integers.\nresult = (3 * 4) + 5\nresult\n",
      "metadata": {
        "trusted": true
      },
      "outputs": [
        {
          "execution_count": 4,
          "output_type": "execute_result",
          "data": {
            "text/plain": "17"
          },
          "metadata": {}
        }
      ],
      "execution_count": 4
    },
    {
      "cell_type": "code",
      "source": "# This will convert 200 minutes to hours by dividing by 60.\nminutes = 200\nhours = minutes / 60\nhours\n",
      "metadata": {
        "trusted": true
      },
      "outputs": [
        {
          "execution_count": 5,
          "output_type": "execute_result",
          "data": {
            "text/plain": "3.3333333333333335"
          },
          "metadata": {}
        }
      ],
      "execution_count": 5
    },
    {
      "cell_type": "markdown",
      "source": "# Objectives\r\n\r\n**Objectives:**\r\n\r\n- List popular languages for Data Science.\r\n- Introduce commonly used Data Science libraries.\r\n- Provide examples of arithmetic expressions in Python.\r\n- Demonstrate a simple conversion of minutes to hours.\r\n- Explore a few key Data Science tools and their applications.\r\n",
      "metadata": {}
    },
    {
      "cell_type": "markdown",
      "source": "## Author\r\nPallavi PT\r\n",
      "metadata": {}
    }
  ]
}